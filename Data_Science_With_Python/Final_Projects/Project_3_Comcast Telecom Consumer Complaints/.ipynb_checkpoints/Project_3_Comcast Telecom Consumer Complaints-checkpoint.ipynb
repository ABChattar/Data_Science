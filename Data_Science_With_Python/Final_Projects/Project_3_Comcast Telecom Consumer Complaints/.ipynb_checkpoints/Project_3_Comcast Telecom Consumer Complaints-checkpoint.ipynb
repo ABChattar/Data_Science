{
 "cells": [
  {
   "cell_type": "code",
   "execution_count": 69,
   "id": "cdc410fa",
   "metadata": {},
   "outputs": [],
   "source": [
    "# Import Requried libraries\n",
    "import numpy as np\n",
    "import pandas as pd\n",
    "import matplotlib.pyplot as plt\n",
    "import datetime as date\n",
    "import statsmodels.api as sm\n",
    "from statsmodels.formula.api import ols\n",
    "from scipy.stats import chi2_contingency\n",
    "import warnings\n",
    "warnings.filterwarnings('ignore')\n",
    "%matplotlib inline"
   ]
  },
  {
   "cell_type": "markdown",
   "id": "a133ba3d",
   "metadata": {},
   "source": [
    "## 1. Import data into Python environment."
   ]
  },
  {
   "cell_type": "code",
   "execution_count": 70,
   "id": "690e792b",
   "metadata": {},
   "outputs": [],
   "source": [
    "data_df = pd.read_csv('Comcast_telecom_complaints_data.csv')"
   ]
  },
  {
   "cell_type": "code",
   "execution_count": 71,
   "id": "2408bcd7",
   "metadata": {},
   "outputs": [
    {
     "data": {
      "text/html": [
       "<div>\n",
       "<style scoped>\n",
       "    .dataframe tbody tr th:only-of-type {\n",
       "        vertical-align: middle;\n",
       "    }\n",
       "\n",
       "    .dataframe tbody tr th {\n",
       "        vertical-align: top;\n",
       "    }\n",
       "\n",
       "    .dataframe thead th {\n",
       "        text-align: right;\n",
       "    }\n",
       "</style>\n",
       "<table border=\"1\" class=\"dataframe\">\n",
       "  <thead>\n",
       "    <tr style=\"text-align: right;\">\n",
       "      <th></th>\n",
       "      <th>Ticket #</th>\n",
       "      <th>Customer Complaint</th>\n",
       "      <th>Date</th>\n",
       "      <th>Date_month_year</th>\n",
       "      <th>Time</th>\n",
       "      <th>Received Via</th>\n",
       "      <th>City</th>\n",
       "      <th>State</th>\n",
       "      <th>Zip code</th>\n",
       "      <th>Status</th>\n",
       "      <th>Filing on Behalf of Someone</th>\n",
       "    </tr>\n",
       "  </thead>\n",
       "  <tbody>\n",
       "    <tr>\n",
       "      <th>0</th>\n",
       "      <td>250635</td>\n",
       "      <td>Comcast Cable Internet Speeds</td>\n",
       "      <td>22-04-15</td>\n",
       "      <td>22-Apr-15</td>\n",
       "      <td>3:53:50 PM</td>\n",
       "      <td>Customer Care Call</td>\n",
       "      <td>Abingdon</td>\n",
       "      <td>Maryland</td>\n",
       "      <td>21009</td>\n",
       "      <td>Closed</td>\n",
       "      <td>No</td>\n",
       "    </tr>\n",
       "    <tr>\n",
       "      <th>1</th>\n",
       "      <td>223441</td>\n",
       "      <td>Payment disappear - service got disconnected</td>\n",
       "      <td>04-08-15</td>\n",
       "      <td>04-Aug-15</td>\n",
       "      <td>10:22:56 AM</td>\n",
       "      <td>Internet</td>\n",
       "      <td>Acworth</td>\n",
       "      <td>Georgia</td>\n",
       "      <td>30102</td>\n",
       "      <td>Closed</td>\n",
       "      <td>No</td>\n",
       "    </tr>\n",
       "    <tr>\n",
       "      <th>2</th>\n",
       "      <td>242732</td>\n",
       "      <td>Speed and Service</td>\n",
       "      <td>18-04-15</td>\n",
       "      <td>18-Apr-15</td>\n",
       "      <td>9:55:47 AM</td>\n",
       "      <td>Internet</td>\n",
       "      <td>Acworth</td>\n",
       "      <td>Georgia</td>\n",
       "      <td>30101</td>\n",
       "      <td>Closed</td>\n",
       "      <td>Yes</td>\n",
       "    </tr>\n",
       "    <tr>\n",
       "      <th>3</th>\n",
       "      <td>277946</td>\n",
       "      <td>Comcast Imposed a New Usage Cap of 300GB that ...</td>\n",
       "      <td>05-07-15</td>\n",
       "      <td>05-Jul-15</td>\n",
       "      <td>11:59:35 AM</td>\n",
       "      <td>Internet</td>\n",
       "      <td>Acworth</td>\n",
       "      <td>Georgia</td>\n",
       "      <td>30101</td>\n",
       "      <td>Open</td>\n",
       "      <td>Yes</td>\n",
       "    </tr>\n",
       "    <tr>\n",
       "      <th>4</th>\n",
       "      <td>307175</td>\n",
       "      <td>Comcast not working and no service to boot</td>\n",
       "      <td>26-05-15</td>\n",
       "      <td>26-May-15</td>\n",
       "      <td>1:25:26 PM</td>\n",
       "      <td>Internet</td>\n",
       "      <td>Acworth</td>\n",
       "      <td>Georgia</td>\n",
       "      <td>30101</td>\n",
       "      <td>Solved</td>\n",
       "      <td>No</td>\n",
       "    </tr>\n",
       "  </tbody>\n",
       "</table>\n",
       "</div>"
      ],
      "text/plain": [
       "  Ticket #                                 Customer Complaint      Date  \\\n",
       "0   250635                      Comcast Cable Internet Speeds  22-04-15   \n",
       "1   223441       Payment disappear - service got disconnected  04-08-15   \n",
       "2   242732                                  Speed and Service  18-04-15   \n",
       "3   277946  Comcast Imposed a New Usage Cap of 300GB that ...  05-07-15   \n",
       "4   307175         Comcast not working and no service to boot  26-05-15   \n",
       "\n",
       "  Date_month_year         Time        Received Via      City     State  \\\n",
       "0       22-Apr-15   3:53:50 PM  Customer Care Call  Abingdon  Maryland   \n",
       "1       04-Aug-15  10:22:56 AM            Internet   Acworth   Georgia   \n",
       "2       18-Apr-15   9:55:47 AM            Internet   Acworth   Georgia   \n",
       "3       05-Jul-15  11:59:35 AM            Internet   Acworth   Georgia   \n",
       "4       26-May-15   1:25:26 PM            Internet   Acworth   Georgia   \n",
       "\n",
       "   Zip code  Status Filing on Behalf of Someone  \n",
       "0     21009  Closed                          No  \n",
       "1     30102  Closed                          No  \n",
       "2     30101  Closed                         Yes  \n",
       "3     30101    Open                         Yes  \n",
       "4     30101  Solved                          No  "
      ]
     },
     "execution_count": 71,
     "metadata": {},
     "output_type": "execute_result"
    }
   ],
   "source": [
    "# top five records of the data set\n",
    "data_df.head()"
   ]
  },
  {
   "cell_type": "code",
   "execution_count": 72,
   "id": "4e157129",
   "metadata": {},
   "outputs": [
    {
     "data": {
      "text/html": [
       "<div>\n",
       "<style scoped>\n",
       "    .dataframe tbody tr th:only-of-type {\n",
       "        vertical-align: middle;\n",
       "    }\n",
       "\n",
       "    .dataframe tbody tr th {\n",
       "        vertical-align: top;\n",
       "    }\n",
       "\n",
       "    .dataframe thead th {\n",
       "        text-align: right;\n",
       "    }\n",
       "</style>\n",
       "<table border=\"1\" class=\"dataframe\">\n",
       "  <thead>\n",
       "    <tr style=\"text-align: right;\">\n",
       "      <th></th>\n",
       "      <th>Ticket #</th>\n",
       "      <th>Customer Complaint</th>\n",
       "      <th>Date</th>\n",
       "      <th>Date_month_year</th>\n",
       "      <th>Time</th>\n",
       "      <th>Received Via</th>\n",
       "      <th>City</th>\n",
       "      <th>State</th>\n",
       "      <th>Zip code</th>\n",
       "      <th>Status</th>\n",
       "      <th>Filing on Behalf of Someone</th>\n",
       "    </tr>\n",
       "  </thead>\n",
       "  <tbody>\n",
       "    <tr>\n",
       "      <th>2219</th>\n",
       "      <td>213550</td>\n",
       "      <td>Service Availability</td>\n",
       "      <td>04-02-15</td>\n",
       "      <td>04-Feb-15</td>\n",
       "      <td>9:13:18 AM</td>\n",
       "      <td>Customer Care Call</td>\n",
       "      <td>Youngstown</td>\n",
       "      <td>Florida</td>\n",
       "      <td>32466</td>\n",
       "      <td>Closed</td>\n",
       "      <td>No</td>\n",
       "    </tr>\n",
       "    <tr>\n",
       "      <th>2220</th>\n",
       "      <td>318775</td>\n",
       "      <td>Comcast Monthly Billing for Returned Modem</td>\n",
       "      <td>06-02-15</td>\n",
       "      <td>06-Feb-15</td>\n",
       "      <td>1:24:39 PM</td>\n",
       "      <td>Customer Care Call</td>\n",
       "      <td>Ypsilanti</td>\n",
       "      <td>Michigan</td>\n",
       "      <td>48197</td>\n",
       "      <td>Solved</td>\n",
       "      <td>No</td>\n",
       "    </tr>\n",
       "    <tr>\n",
       "      <th>2221</th>\n",
       "      <td>331188</td>\n",
       "      <td>complaint about comcast</td>\n",
       "      <td>06-09-15</td>\n",
       "      <td>06-Sep-15</td>\n",
       "      <td>5:28:41 PM</td>\n",
       "      <td>Internet</td>\n",
       "      <td>Ypsilanti</td>\n",
       "      <td>Michigan</td>\n",
       "      <td>48197</td>\n",
       "      <td>Solved</td>\n",
       "      <td>No</td>\n",
       "    </tr>\n",
       "    <tr>\n",
       "      <th>2222</th>\n",
       "      <td>360489</td>\n",
       "      <td>Extremely unsatisfied Comcast customer</td>\n",
       "      <td>23-06-15</td>\n",
       "      <td>23-Jun-15</td>\n",
       "      <td>11:13:30 PM</td>\n",
       "      <td>Customer Care Call</td>\n",
       "      <td>Ypsilanti</td>\n",
       "      <td>Michigan</td>\n",
       "      <td>48197</td>\n",
       "      <td>Solved</td>\n",
       "      <td>No</td>\n",
       "    </tr>\n",
       "    <tr>\n",
       "      <th>2223</th>\n",
       "      <td>363614</td>\n",
       "      <td>Comcast, Ypsilanti MI Internet Speed</td>\n",
       "      <td>24-06-15</td>\n",
       "      <td>24-Jun-15</td>\n",
       "      <td>10:28:33 PM</td>\n",
       "      <td>Customer Care Call</td>\n",
       "      <td>Ypsilanti</td>\n",
       "      <td>Michigan</td>\n",
       "      <td>48198</td>\n",
       "      <td>Open</td>\n",
       "      <td>Yes</td>\n",
       "    </tr>\n",
       "  </tbody>\n",
       "</table>\n",
       "</div>"
      ],
      "text/plain": [
       "     Ticket #                          Customer Complaint      Date  \\\n",
       "2219   213550                        Service Availability  04-02-15   \n",
       "2220   318775  Comcast Monthly Billing for Returned Modem  06-02-15   \n",
       "2221   331188                     complaint about comcast  06-09-15   \n",
       "2222   360489      Extremely unsatisfied Comcast customer  23-06-15   \n",
       "2223   363614        Comcast, Ypsilanti MI Internet Speed  24-06-15   \n",
       "\n",
       "     Date_month_year         Time        Received Via        City     State  \\\n",
       "2219       04-Feb-15   9:13:18 AM  Customer Care Call  Youngstown   Florida   \n",
       "2220       06-Feb-15   1:24:39 PM  Customer Care Call   Ypsilanti  Michigan   \n",
       "2221       06-Sep-15   5:28:41 PM            Internet   Ypsilanti  Michigan   \n",
       "2222       23-Jun-15  11:13:30 PM  Customer Care Call   Ypsilanti  Michigan   \n",
       "2223       24-Jun-15  10:28:33 PM  Customer Care Call   Ypsilanti  Michigan   \n",
       "\n",
       "      Zip code  Status Filing on Behalf of Someone  \n",
       "2219     32466  Closed                          No  \n",
       "2220     48197  Solved                          No  \n",
       "2221     48197  Solved                          No  \n",
       "2222     48197  Solved                          No  \n",
       "2223     48198    Open                         Yes  "
      ]
     },
     "execution_count": 72,
     "metadata": {},
     "output_type": "execute_result"
    }
   ],
   "source": [
    "# last five records of the data set\n",
    "data_df.tail()"
   ]
  },
  {
   "cell_type": "code",
   "execution_count": 73,
   "id": "47950cbe",
   "metadata": {},
   "outputs": [
    {
     "data": {
      "text/html": [
       "<div>\n",
       "<style scoped>\n",
       "    .dataframe tbody tr th:only-of-type {\n",
       "        vertical-align: middle;\n",
       "    }\n",
       "\n",
       "    .dataframe tbody tr th {\n",
       "        vertical-align: top;\n",
       "    }\n",
       "\n",
       "    .dataframe thead th {\n",
       "        text-align: right;\n",
       "    }\n",
       "</style>\n",
       "<table border=\"1\" class=\"dataframe\">\n",
       "  <thead>\n",
       "    <tr style=\"text-align: right;\">\n",
       "      <th></th>\n",
       "      <th>Zip code</th>\n",
       "    </tr>\n",
       "  </thead>\n",
       "  <tbody>\n",
       "    <tr>\n",
       "      <th>count</th>\n",
       "      <td>2224.000000</td>\n",
       "    </tr>\n",
       "    <tr>\n",
       "      <th>mean</th>\n",
       "      <td>47994.393435</td>\n",
       "    </tr>\n",
       "    <tr>\n",
       "      <th>std</th>\n",
       "      <td>28885.279427</td>\n",
       "    </tr>\n",
       "    <tr>\n",
       "      <th>min</th>\n",
       "      <td>1075.000000</td>\n",
       "    </tr>\n",
       "    <tr>\n",
       "      <th>25%</th>\n",
       "      <td>30056.500000</td>\n",
       "    </tr>\n",
       "    <tr>\n",
       "      <th>50%</th>\n",
       "      <td>37211.000000</td>\n",
       "    </tr>\n",
       "    <tr>\n",
       "      <th>75%</th>\n",
       "      <td>77058.750000</td>\n",
       "    </tr>\n",
       "    <tr>\n",
       "      <th>max</th>\n",
       "      <td>99223.000000</td>\n",
       "    </tr>\n",
       "  </tbody>\n",
       "</table>\n",
       "</div>"
      ],
      "text/plain": [
       "           Zip code\n",
       "count   2224.000000\n",
       "mean   47994.393435\n",
       "std    28885.279427\n",
       "min     1075.000000\n",
       "25%    30056.500000\n",
       "50%    37211.000000\n",
       "75%    77058.750000\n",
       "max    99223.000000"
      ]
     },
     "execution_count": 73,
     "metadata": {},
     "output_type": "execute_result"
    }
   ],
   "source": [
    "# Some basic statical details.\n",
    "data_df.describe()"
   ]
  },
  {
   "cell_type": "code",
   "execution_count": 74,
   "id": "25166374",
   "metadata": {},
   "outputs": [
    {
     "name": "stdout",
     "output_type": "stream",
     "text": [
      "<class 'pandas.core.frame.DataFrame'>\n",
      "RangeIndex: 2224 entries, 0 to 2223\n",
      "Data columns (total 11 columns):\n",
      " #   Column                       Non-Null Count  Dtype \n",
      "---  ------                       --------------  ----- \n",
      " 0   Ticket #                     2224 non-null   object\n",
      " 1   Customer Complaint           2224 non-null   object\n",
      " 2   Date                         2224 non-null   object\n",
      " 3   Date_month_year              2224 non-null   object\n",
      " 4   Time                         2224 non-null   object\n",
      " 5   Received Via                 2224 non-null   object\n",
      " 6   City                         2224 non-null   object\n",
      " 7   State                        2224 non-null   object\n",
      " 8   Zip code                     2224 non-null   int64 \n",
      " 9   Status                       2224 non-null   object\n",
      " 10  Filing on Behalf of Someone  2224 non-null   object\n",
      "dtypes: int64(1), object(10)\n",
      "memory usage: 191.2+ KB\n"
     ]
    }
   ],
   "source": [
    "# Infornation data set\n",
    "data_df.info()"
   ]
  },
  {
   "cell_type": "code",
   "execution_count": 75,
   "id": "23465fdf",
   "metadata": {},
   "outputs": [
    {
     "data": {
      "text/plain": [
       "Index(['Ticket #', 'Customer Complaint', 'Date', 'Date_month_year', 'Time',\n",
       "       'Received Via', 'City', 'State', 'Zip code', 'Status',\n",
       "       'Filing on Behalf of Someone'],\n",
       "      dtype='object')"
      ]
     },
     "execution_count": 75,
     "metadata": {},
     "output_type": "execute_result"
    }
   ],
   "source": [
    "# Columns in the data set\n",
    "data_df.columns"
   ]
  },
  {
   "cell_type": "code",
   "execution_count": 76,
   "id": "894f6596",
   "metadata": {},
   "outputs": [
    {
     "data": {
      "text/plain": [
       "(2224, 11)"
      ]
     },
     "execution_count": 76,
     "metadata": {},
     "output_type": "execute_result"
    }
   ],
   "source": [
    "# shape of the data set.\n",
    "data_df.shape"
   ]
  },
  {
   "cell_type": "markdown",
   "id": "3ead51c4",
   "metadata": {},
   "source": [
    "## 2. Provide the trend chart for the number of complaints at monthly and daily granularity\n",
    "## levels."
   ]
  },
  {
   "cell_type": "code",
   "execution_count": 77,
   "id": "0c5ca53d",
   "metadata": {},
   "outputs": [],
   "source": [
    "# Creating new column 'Day' and 'Month'\n",
    "data_df['Day'] = pd.DatetimeIndex(data_df['Date']).day\n",
    "data_df['Month'] = pd.DatetimeIndex(data_df['Date']).month"
   ]
  },
  {
   "cell_type": "code",
   "execution_count": 78,
   "id": "6af12a98",
   "metadata": {},
   "outputs": [
    {
     "data": {
      "text/html": [
       "<div>\n",
       "<style scoped>\n",
       "    .dataframe tbody tr th:only-of-type {\n",
       "        vertical-align: middle;\n",
       "    }\n",
       "\n",
       "    .dataframe tbody tr th {\n",
       "        vertical-align: top;\n",
       "    }\n",
       "\n",
       "    .dataframe thead th {\n",
       "        text-align: right;\n",
       "    }\n",
       "</style>\n",
       "<table border=\"1\" class=\"dataframe\">\n",
       "  <thead>\n",
       "    <tr style=\"text-align: right;\">\n",
       "      <th></th>\n",
       "      <th>Ticket #</th>\n",
       "      <th>Customer Complaint</th>\n",
       "      <th>Date</th>\n",
       "      <th>Date_month_year</th>\n",
       "      <th>Time</th>\n",
       "      <th>Received Via</th>\n",
       "      <th>City</th>\n",
       "      <th>State</th>\n",
       "      <th>Zip code</th>\n",
       "      <th>Status</th>\n",
       "      <th>Filing on Behalf of Someone</th>\n",
       "      <th>Day</th>\n",
       "      <th>Month</th>\n",
       "    </tr>\n",
       "  </thead>\n",
       "  <tbody>\n",
       "    <tr>\n",
       "      <th>0</th>\n",
       "      <td>250635</td>\n",
       "      <td>Comcast Cable Internet Speeds</td>\n",
       "      <td>22-04-15</td>\n",
       "      <td>22-Apr-15</td>\n",
       "      <td>3:53:50 PM</td>\n",
       "      <td>Customer Care Call</td>\n",
       "      <td>Abingdon</td>\n",
       "      <td>Maryland</td>\n",
       "      <td>21009</td>\n",
       "      <td>Closed</td>\n",
       "      <td>No</td>\n",
       "      <td>22</td>\n",
       "      <td>4</td>\n",
       "    </tr>\n",
       "    <tr>\n",
       "      <th>1</th>\n",
       "      <td>223441</td>\n",
       "      <td>Payment disappear - service got disconnected</td>\n",
       "      <td>04-08-15</td>\n",
       "      <td>04-Aug-15</td>\n",
       "      <td>10:22:56 AM</td>\n",
       "      <td>Internet</td>\n",
       "      <td>Acworth</td>\n",
       "      <td>Georgia</td>\n",
       "      <td>30102</td>\n",
       "      <td>Closed</td>\n",
       "      <td>No</td>\n",
       "      <td>8</td>\n",
       "      <td>4</td>\n",
       "    </tr>\n",
       "    <tr>\n",
       "      <th>2</th>\n",
       "      <td>242732</td>\n",
       "      <td>Speed and Service</td>\n",
       "      <td>18-04-15</td>\n",
       "      <td>18-Apr-15</td>\n",
       "      <td>9:55:47 AM</td>\n",
       "      <td>Internet</td>\n",
       "      <td>Acworth</td>\n",
       "      <td>Georgia</td>\n",
       "      <td>30101</td>\n",
       "      <td>Closed</td>\n",
       "      <td>Yes</td>\n",
       "      <td>18</td>\n",
       "      <td>4</td>\n",
       "    </tr>\n",
       "    <tr>\n",
       "      <th>3</th>\n",
       "      <td>277946</td>\n",
       "      <td>Comcast Imposed a New Usage Cap of 300GB that ...</td>\n",
       "      <td>05-07-15</td>\n",
       "      <td>05-Jul-15</td>\n",
       "      <td>11:59:35 AM</td>\n",
       "      <td>Internet</td>\n",
       "      <td>Acworth</td>\n",
       "      <td>Georgia</td>\n",
       "      <td>30101</td>\n",
       "      <td>Open</td>\n",
       "      <td>Yes</td>\n",
       "      <td>7</td>\n",
       "      <td>5</td>\n",
       "    </tr>\n",
       "    <tr>\n",
       "      <th>4</th>\n",
       "      <td>307175</td>\n",
       "      <td>Comcast not working and no service to boot</td>\n",
       "      <td>26-05-15</td>\n",
       "      <td>26-May-15</td>\n",
       "      <td>1:25:26 PM</td>\n",
       "      <td>Internet</td>\n",
       "      <td>Acworth</td>\n",
       "      <td>Georgia</td>\n",
       "      <td>30101</td>\n",
       "      <td>Solved</td>\n",
       "      <td>No</td>\n",
       "      <td>26</td>\n",
       "      <td>5</td>\n",
       "    </tr>\n",
       "  </tbody>\n",
       "</table>\n",
       "</div>"
      ],
      "text/plain": [
       "  Ticket #                                 Customer Complaint      Date  \\\n",
       "0   250635                      Comcast Cable Internet Speeds  22-04-15   \n",
       "1   223441       Payment disappear - service got disconnected  04-08-15   \n",
       "2   242732                                  Speed and Service  18-04-15   \n",
       "3   277946  Comcast Imposed a New Usage Cap of 300GB that ...  05-07-15   \n",
       "4   307175         Comcast not working and no service to boot  26-05-15   \n",
       "\n",
       "  Date_month_year         Time        Received Via      City     State  \\\n",
       "0       22-Apr-15   3:53:50 PM  Customer Care Call  Abingdon  Maryland   \n",
       "1       04-Aug-15  10:22:56 AM            Internet   Acworth   Georgia   \n",
       "2       18-Apr-15   9:55:47 AM            Internet   Acworth   Georgia   \n",
       "3       05-Jul-15  11:59:35 AM            Internet   Acworth   Georgia   \n",
       "4       26-May-15   1:25:26 PM            Internet   Acworth   Georgia   \n",
       "\n",
       "   Zip code  Status Filing on Behalf of Someone  Day  Month  \n",
       "0     21009  Closed                          No   22      4  \n",
       "1     30102  Closed                          No    8      4  \n",
       "2     30101  Closed                         Yes   18      4  \n",
       "3     30101    Open                         Yes    7      5  \n",
       "4     30101  Solved                          No   26      5  "
      ]
     },
     "execution_count": 78,
     "metadata": {},
     "output_type": "execute_result"
    }
   ],
   "source": [
    "# Top five records of the data set\n",
    "data_df.head()"
   ]
  },
  {
   "cell_type": "code",
   "execution_count": 79,
   "id": "6a7d42c6",
   "metadata": {},
   "outputs": [],
   "source": [
    "# Creating new data frame 'new_month_dabsf'\n",
    "new_month_df = pd.DataFrame(data_df.groupby(['Month'])['Customer Complaint'].size())"
   ]
  },
  {
   "cell_type": "code",
   "execution_count": 80,
   "id": "ff64a43d",
   "metadata": {},
   "outputs": [
    {
     "data": {
      "text/html": [
       "<div>\n",
       "<style scoped>\n",
       "    .dataframe tbody tr th:only-of-type {\n",
       "        vertical-align: middle;\n",
       "    }\n",
       "\n",
       "    .dataframe tbody tr th {\n",
       "        vertical-align: top;\n",
       "    }\n",
       "\n",
       "    .dataframe thead th {\n",
       "        text-align: right;\n",
       "    }\n",
       "</style>\n",
       "<table border=\"1\" class=\"dataframe\">\n",
       "  <thead>\n",
       "    <tr style=\"text-align: right;\">\n",
       "      <th></th>\n",
       "      <th>Customer Complaint</th>\n",
       "    </tr>\n",
       "    <tr>\n",
       "      <th>Month</th>\n",
       "      <th></th>\n",
       "    </tr>\n",
       "  </thead>\n",
       "  <tbody>\n",
       "    <tr>\n",
       "      <th>4</th>\n",
       "      <td>545</td>\n",
       "    </tr>\n",
       "    <tr>\n",
       "      <th>5</th>\n",
       "      <td>399</td>\n",
       "    </tr>\n",
       "    <tr>\n",
       "      <th>6</th>\n",
       "      <td>1280</td>\n",
       "    </tr>\n",
       "  </tbody>\n",
       "</table>\n",
       "</div>"
      ],
      "text/plain": [
       "       Customer Complaint\n",
       "Month                    \n",
       "4                     545\n",
       "5                     399\n",
       "6                    1280"
      ]
     },
     "execution_count": 80,
     "metadata": {},
     "output_type": "execute_result"
    }
   ],
   "source": [
    "# Data in the 'new_month_df\n",
    "new_month_df"
   ]
  },
  {
   "cell_type": "code",
   "execution_count": 81,
   "id": "d6c215d3",
   "metadata": {},
   "outputs": [],
   "source": [
    "# Reseting index of the 'new_month_df' data frame\n",
    "new_month_df.reset_index(inplace=True)"
   ]
  },
  {
   "cell_type": "code",
   "execution_count": 82,
   "id": "535626ef",
   "metadata": {},
   "outputs": [
    {
     "data": {
      "image/png": "[encoded data removed]",
      "text/plain": [
       "<Figure size 432x288 with 1 Axes>"
      ]
     },
     "metadata": {
      "needs_background": "light"
     },
     "output_type": "display_data"
    }
   ],
   "source": [
    "# Graph of the Monthly Complaints\n",
    "plt.plot(new_month_df['Month'], new_month_df['Customer Complaint'], color = 'y')\n",
    "plt.title(\"Monthly Complaints\")\n",
    "plt.xlim(3,8)\n",
    "plt.xlabel(\"Months\")\n",
    "plt.ylabel(\"Customer Complaint\")\n",
    "plt.scatter(new_month_df['Month'], new_month_df['Customer Complaint'], color = 'r')\n",
    "plt.show()"
   ]
  },
  {
   "cell_type": "markdown",
   "id": "c2ee8860",
   "metadata": {},
   "source": [
    "<p> Month 6 have most complaints.</p>"
   ]
  },
  {
   "cell_type": "code",
   "execution_count": 83,
   "id": "672dcfee",
   "metadata": {},
   "outputs": [],
   "source": [
    "# Creating new data frame 'new_Day_df'\n",
    "new_Day_df = pd.DataFrame(data_df.groupby(['Day'])['Customer Complaint'].size())"
   ]
  },
  {
   "cell_type": "code",
   "execution_count": 84,
   "id": "ebd7ab71",
   "metadata": {},
   "outputs": [
    {
     "data": {
      "text/html": [
       "<div>\n",
       "<style scoped>\n",
       "    .dataframe tbody tr th:only-of-type {\n",
       "        vertical-align: middle;\n",
       "    }\n",
       "\n",
       "    .dataframe tbody tr th {\n",
       "        vertical-align: top;\n",
       "    }\n",
       "\n",
       "    .dataframe thead th {\n",
       "        text-align: right;\n",
       "    }\n",
       "</style>\n",
       "<table border=\"1\" class=\"dataframe\">\n",
       "  <thead>\n",
       "    <tr style=\"text-align: right;\">\n",
       "      <th></th>\n",
       "      <th>Customer Complaint</th>\n",
       "    </tr>\n",
       "    <tr>\n",
       "      <th>Day</th>\n",
       "      <th></th>\n",
       "    </tr>\n",
       "  </thead>\n",
       "  <tbody>\n",
       "    <tr>\n",
       "      <th>1</th>\n",
       "      <td>55</td>\n",
       "    </tr>\n",
       "    <tr>\n",
       "      <th>2</th>\n",
       "      <td>59</td>\n",
       "    </tr>\n",
       "    <tr>\n",
       "      <th>3</th>\n",
       "      <td>45</td>\n",
       "    </tr>\n",
       "    <tr>\n",
       "      <th>4</th>\n",
       "      <td>36</td>\n",
       "    </tr>\n",
       "    <tr>\n",
       "      <th>5</th>\n",
       "      <td>49</td>\n",
       "    </tr>\n",
       "  </tbody>\n",
       "</table>\n",
       "</div>"
      ],
      "text/plain": [
       "     Customer Complaint\n",
       "Day                    \n",
       "1                    55\n",
       "2                    59\n",
       "3                    45\n",
       "4                    36\n",
       "5                    49"
      ]
     },
     "execution_count": 84,
     "metadata": {},
     "output_type": "execute_result"
    }
   ],
   "source": [
    "# Top five records of the data frame\n",
    "new_Day_df.head()"
   ]
  },
  {
   "cell_type": "code",
   "execution_count": 85,
   "id": "f584bb2f",
   "metadata": {},
   "outputs": [],
   "source": [
    "# Reseting index of the 'new_Day_df' data frame\n",
    "new_Day_df.reset_index(inplace=True)"
   ]
  },
  {
   "cell_type": "code",
   "execution_count": 86,
   "id": "a2c3bda2",
   "metadata": {},
   "outputs": [
    {
     "data": {
      "image/png": "[encoded data removed]",
      "text/plain": [
       "<Figure size 432x288 with 1 Axes>"
      ]
     },
     "metadata": {
      "needs_background": "light"
     },
     "output_type": "display_data"
    },
    {
     "data": {
      "text/plain": [
       "<Figure size 1440x720 with 0 Axes>"
      ]
     },
     "metadata": {},
     "output_type": "display_data"
    }
   ],
   "source": [
    "# Graph of the Daily Complaints\n",
    "plt.plot(new_Day_df['Day'], new_Day_df['Customer Complaint'], color= 'y')\n",
    "plt.scatter(new_Day_df['Day'], new_Day_df['Customer Complaint'], color= 'r')\n",
    "plt.title(\"Daily Complaints\")\n",
    "plt.xlim(0,31)\n",
    "plt.xlabel(\"Day\")\n",
    "plt.ylabel(\"Customer Complaints\")\n",
    "plt.figure(figsize=(20,10)) \n",
    "plt.show()"
   ]
  },
  {
   "cell_type": "markdown",
   "id": "4aa5ede9",
   "metadata": {},
   "source": [
    "<p> Day 24 of all months sum of complaint is maximum that is 249.</p>"
   ]
  },
  {
   "cell_type": "markdown",
   "id": "d23ad7ea",
   "metadata": {},
   "source": [
    "## 3. Provide a table with the frequency of complaint types."
   ]
  },
  {
   "cell_type": "code",
   "execution_count": 87,
   "id": "0cf2a229",
   "metadata": {},
   "outputs": [
    {
     "data": {
      "text/html": [
       "<div>\n",
       "<style scoped>\n",
       "    .dataframe tbody tr th:only-of-type {\n",
       "        vertical-align: middle;\n",
       "    }\n",
       "\n",
       "    .dataframe tbody tr th {\n",
       "        vertical-align: top;\n",
       "    }\n",
       "\n",
       "    .dataframe thead th {\n",
       "        text-align: right;\n",
       "    }\n",
       "</style>\n",
       "<table border=\"1\" class=\"dataframe\">\n",
       "  <thead>\n",
       "    <tr style=\"text-align: right;\">\n",
       "      <th></th>\n",
       "      <th>Customer Complaint</th>\n",
       "      <th>Frequency</th>\n",
       "    </tr>\n",
       "  </thead>\n",
       "  <tbody>\n",
       "    <tr>\n",
       "      <th>0</th>\n",
       "      <td>Comcast</td>\n",
       "      <td>83</td>\n",
       "    </tr>\n",
       "    <tr>\n",
       "      <th>1</th>\n",
       "      <td>Comcast Internet</td>\n",
       "      <td>18</td>\n",
       "    </tr>\n",
       "    <tr>\n",
       "      <th>2</th>\n",
       "      <td>Comcast Data Cap</td>\n",
       "      <td>17</td>\n",
       "    </tr>\n",
       "    <tr>\n",
       "      <th>3</th>\n",
       "      <td>comcast</td>\n",
       "      <td>13</td>\n",
       "    </tr>\n",
       "    <tr>\n",
       "      <th>4</th>\n",
       "      <td>Comcast Billing</td>\n",
       "      <td>11</td>\n",
       "    </tr>\n",
       "  </tbody>\n",
       "</table>\n",
       "</div>"
      ],
      "text/plain": [
       "  Customer Complaint  Frequency\n",
       "0            Comcast         83\n",
       "1   Comcast Internet         18\n",
       "2   Comcast Data Cap         17\n",
       "3            comcast         13\n",
       "4    Comcast Billing         11"
      ]
     },
     "execution_count": 87,
     "metadata": {},
     "output_type": "execute_result"
    }
   ],
   "source": [
    "# Creating new data frame df_complaint_table\n",
    "df_complaint_table=pd.DataFrame(data_df[['Customer Complaint']].value_counts())\n",
    "# Reseting index of the data frame\n",
    "df_complaint_table.reset_index(inplace=True)\n",
    "# Renaming the column name\n",
    "df_complaint_table.rename(columns={0:'Frequency'},inplace=True)\n",
    "# Top five records of the data frame\n",
    "df_complaint_table.head()"
   ]
  },
  {
   "cell_type": "markdown",
   "id": "c087236b",
   "metadata": {},
   "source": [
    "## 4. Which complaint types are maximum i.e., around internet, network issues, or across any other domains."
   ]
  },
  {
   "cell_type": "code",
   "execution_count": 88,
   "id": "cf4a5725",
   "metadata": {},
   "outputs": [
    {
     "data": {
      "text/plain": [
       "Customer Complaint    Comcast\n",
       "Frequency                  83\n",
       "Name: 0, dtype: object"
      ]
     },
     "execution_count": 88,
     "metadata": {},
     "output_type": "execute_result"
    }
   ],
   "source": [
    "df_complaint_table.loc[df_complaint_table['Frequency'].argmax()]"
   ]
  },
  {
   "cell_type": "markdown",
   "id": "16f6b34d",
   "metadata": {},
   "source": [
    "<p> Comcast complaint types are maximum.</p>"
   ]
  },
  {
   "cell_type": "markdown",
   "id": "93c40501",
   "metadata": {},
   "source": [
    "## 5. Create a new categorical variable with value as Open and Closed. Open & Pending is to be categorized as Open and Closed & Solved is to be categorized as Closed."
   ]
  },
  {
   "cell_type": "code",
   "execution_count": 89,
   "id": "5fbebc1e",
   "metadata": {},
   "outputs": [
    {
     "data": {
      "text/plain": [
       "array(['Closed', 'Open', 'Solved', 'Pending'], dtype=object)"
      ]
     },
     "execution_count": 89,
     "metadata": {},
     "output_type": "execute_result"
    }
   ],
   "source": [
    "# Unique values in the 'Status column' \n",
    "data_df['Status'].unique()"
   ]
  },
  {
   "cell_type": "code",
   "execution_count": 90,
   "id": "87831e1d",
   "metadata": {},
   "outputs": [],
   "source": [
    "# creating new column 'Open And Closed'\n",
    "data_df[\"Open And Closed\"] = data_df.Status.apply(lambda x: 'Closed' if (x =='Closed' or x == 'Solved') else 'Open')"
   ]
  },
  {
   "cell_type": "code",
   "execution_count": 91,
   "id": "891554e3",
   "metadata": {},
   "outputs": [
    {
     "data": {
      "text/plain": [
       "0    Closed\n",
       "1    Closed\n",
       "2    Closed\n",
       "3      Open\n",
       "4    Closed\n",
       "Name: Open And Closed, dtype: object"
      ]
     },
     "execution_count": 91,
     "metadata": {},
     "output_type": "execute_result"
    }
   ],
   "source": [
    "# Top five record of the 'Open And Closed' column \n",
    "data_df['Open And Closed'].head()"
   ]
  },
  {
   "cell_type": "code",
   "execution_count": 92,
   "id": "ea159f21",
   "metadata": {},
   "outputs": [
    {
     "data": {
      "text/html": [
       "<div>\n",
       "<style scoped>\n",
       "    .dataframe tbody tr th:only-of-type {\n",
       "        vertical-align: middle;\n",
       "    }\n",
       "\n",
       "    .dataframe tbody tr th {\n",
       "        vertical-align: top;\n",
       "    }\n",
       "\n",
       "    .dataframe thead th {\n",
       "        text-align: right;\n",
       "    }\n",
       "</style>\n",
       "<table border=\"1\" class=\"dataframe\">\n",
       "  <thead>\n",
       "    <tr style=\"text-align: right;\">\n",
       "      <th></th>\n",
       "      <th>Ticket #</th>\n",
       "      <th>Customer Complaint</th>\n",
       "      <th>Date</th>\n",
       "      <th>Date_month_year</th>\n",
       "      <th>Time</th>\n",
       "      <th>Received Via</th>\n",
       "      <th>City</th>\n",
       "      <th>State</th>\n",
       "      <th>Zip code</th>\n",
       "      <th>Status</th>\n",
       "      <th>Filing on Behalf of Someone</th>\n",
       "      <th>Day</th>\n",
       "      <th>Month</th>\n",
       "      <th>Open And Closed</th>\n",
       "    </tr>\n",
       "  </thead>\n",
       "  <tbody>\n",
       "    <tr>\n",
       "      <th>0</th>\n",
       "      <td>250635</td>\n",
       "      <td>Comcast Cable Internet Speeds</td>\n",
       "      <td>22-04-15</td>\n",
       "      <td>22-Apr-15</td>\n",
       "      <td>3:53:50 PM</td>\n",
       "      <td>Customer Care Call</td>\n",
       "      <td>Abingdon</td>\n",
       "      <td>Maryland</td>\n",
       "      <td>21009</td>\n",
       "      <td>Closed</td>\n",
       "      <td>No</td>\n",
       "      <td>22</td>\n",
       "      <td>4</td>\n",
       "      <td>Closed</td>\n",
       "    </tr>\n",
       "    <tr>\n",
       "      <th>1</th>\n",
       "      <td>223441</td>\n",
       "      <td>Payment disappear - service got disconnected</td>\n",
       "      <td>04-08-15</td>\n",
       "      <td>04-Aug-15</td>\n",
       "      <td>10:22:56 AM</td>\n",
       "      <td>Internet</td>\n",
       "      <td>Acworth</td>\n",
       "      <td>Georgia</td>\n",
       "      <td>30102</td>\n",
       "      <td>Closed</td>\n",
       "      <td>No</td>\n",
       "      <td>8</td>\n",
       "      <td>4</td>\n",
       "      <td>Closed</td>\n",
       "    </tr>\n",
       "    <tr>\n",
       "      <th>2</th>\n",
       "      <td>242732</td>\n",
       "      <td>Speed and Service</td>\n",
       "      <td>18-04-15</td>\n",
       "      <td>18-Apr-15</td>\n",
       "      <td>9:55:47 AM</td>\n",
       "      <td>Internet</td>\n",
       "      <td>Acworth</td>\n",
       "      <td>Georgia</td>\n",
       "      <td>30101</td>\n",
       "      <td>Closed</td>\n",
       "      <td>Yes</td>\n",
       "      <td>18</td>\n",
       "      <td>4</td>\n",
       "      <td>Closed</td>\n",
       "    </tr>\n",
       "    <tr>\n",
       "      <th>3</th>\n",
       "      <td>277946</td>\n",
       "      <td>Comcast Imposed a New Usage Cap of 300GB that ...</td>\n",
       "      <td>05-07-15</td>\n",
       "      <td>05-Jul-15</td>\n",
       "      <td>11:59:35 AM</td>\n",
       "      <td>Internet</td>\n",
       "      <td>Acworth</td>\n",
       "      <td>Georgia</td>\n",
       "      <td>30101</td>\n",
       "      <td>Open</td>\n",
       "      <td>Yes</td>\n",
       "      <td>7</td>\n",
       "      <td>5</td>\n",
       "      <td>Open</td>\n",
       "    </tr>\n",
       "    <tr>\n",
       "      <th>4</th>\n",
       "      <td>307175</td>\n",
       "      <td>Comcast not working and no service to boot</td>\n",
       "      <td>26-05-15</td>\n",
       "      <td>26-May-15</td>\n",
       "      <td>1:25:26 PM</td>\n",
       "      <td>Internet</td>\n",
       "      <td>Acworth</td>\n",
       "      <td>Georgia</td>\n",
       "      <td>30101</td>\n",
       "      <td>Solved</td>\n",
       "      <td>No</td>\n",
       "      <td>26</td>\n",
       "      <td>5</td>\n",
       "      <td>Closed</td>\n",
       "    </tr>\n",
       "  </tbody>\n",
       "</table>\n",
       "</div>"
      ],
      "text/plain": [
       "  Ticket #                                 Customer Complaint      Date  \\\n",
       "0   250635                      Comcast Cable Internet Speeds  22-04-15   \n",
       "1   223441       Payment disappear - service got disconnected  04-08-15   \n",
       "2   242732                                  Speed and Service  18-04-15   \n",
       "3   277946  Comcast Imposed a New Usage Cap of 300GB that ...  05-07-15   \n",
       "4   307175         Comcast not working and no service to boot  26-05-15   \n",
       "\n",
       "  Date_month_year         Time        Received Via      City     State  \\\n",
       "0       22-Apr-15   3:53:50 PM  Customer Care Call  Abingdon  Maryland   \n",
       "1       04-Aug-15  10:22:56 AM            Internet   Acworth   Georgia   \n",
       "2       18-Apr-15   9:55:47 AM            Internet   Acworth   Georgia   \n",
       "3       05-Jul-15  11:59:35 AM            Internet   Acworth   Georgia   \n",
       "4       26-May-15   1:25:26 PM            Internet   Acworth   Georgia   \n",
       "\n",
       "   Zip code  Status Filing on Behalf of Someone  Day  Month Open And Closed  \n",
       "0     21009  Closed                          No   22      4          Closed  \n",
       "1     30102  Closed                          No    8      4          Closed  \n",
       "2     30101  Closed                         Yes   18      4          Closed  \n",
       "3     30101    Open                         Yes    7      5            Open  \n",
       "4     30101  Solved                          No   26      5          Closed  "
      ]
     },
     "execution_count": 92,
     "metadata": {},
     "output_type": "execute_result"
    }
   ],
   "source": [
    "# Top five records of the data set\n",
    "data_df.head()"
   ]
  },
  {
   "cell_type": "code",
   "execution_count": 93,
   "id": "f1d268f8",
   "metadata": {},
   "outputs": [],
   "source": [
    "# creating new data frame with columns 'State', 'Open', 'Closed'\n",
    "df_state_data_open = pd.DataFrame\n",
    "df_state_data_closed = pd.DataFrame\n",
    "df_state_data_open = pd.DataFrame(data_df[data_df['Open And Closed'] == 'Open'].groupby('State')['Open And Closed'].value_counts())\n",
    "df_state_data_closed = pd.DataFrame(data_df[data_df['Open And Closed'] == 'Closed'].groupby('State')['Open And Closed'].value_counts())"
   ]
  },
  {
   "cell_type": "code",
   "execution_count": 94,
   "id": "9713f08f",
   "metadata": {},
   "outputs": [
    {
     "data": {
      "text/html": [
       "<div>\n",
       "<style scoped>\n",
       "    .dataframe tbody tr th:only-of-type {\n",
       "        vertical-align: middle;\n",
       "    }\n",
       "\n",
       "    .dataframe tbody tr th {\n",
       "        vertical-align: top;\n",
       "    }\n",
       "\n",
       "    .dataframe thead th {\n",
       "        text-align: right;\n",
       "    }\n",
       "</style>\n",
       "<table border=\"1\" class=\"dataframe\">\n",
       "  <thead>\n",
       "    <tr style=\"text-align: right;\">\n",
       "      <th></th>\n",
       "      <th></th>\n",
       "      <th>Open And Closed</th>\n",
       "    </tr>\n",
       "    <tr>\n",
       "      <th>State</th>\n",
       "      <th>Open And Closed</th>\n",
       "      <th></th>\n",
       "    </tr>\n",
       "  </thead>\n",
       "  <tbody>\n",
       "    <tr>\n",
       "      <th>Alabama</th>\n",
       "      <th>Closed</th>\n",
       "      <td>17</td>\n",
       "    </tr>\n",
       "    <tr>\n",
       "      <th>Arizona</th>\n",
       "      <th>Closed</th>\n",
       "      <td>14</td>\n",
       "    </tr>\n",
       "    <tr>\n",
       "      <th>Arkansas</th>\n",
       "      <th>Closed</th>\n",
       "      <td>6</td>\n",
       "    </tr>\n",
       "    <tr>\n",
       "      <th>California</th>\n",
       "      <th>Closed</th>\n",
       "      <td>159</td>\n",
       "    </tr>\n",
       "    <tr>\n",
       "      <th>Colorado</th>\n",
       "      <th>Closed</th>\n",
       "      <td>58</td>\n",
       "    </tr>\n",
       "  </tbody>\n",
       "</table>\n",
       "</div>"
      ],
      "text/plain": [
       "                            Open And Closed\n",
       "State      Open And Closed                 \n",
       "Alabama    Closed                        17\n",
       "Arizona    Closed                        14\n",
       "Arkansas   Closed                         6\n",
       "California Closed                       159\n",
       "Colorado   Closed                        58"
      ]
     },
     "execution_count": 94,
     "metadata": {},
     "output_type": "execute_result"
    }
   ],
   "source": [
    "# Top five records of the Closed data frame\n",
    "df_state_data_closed.head()"
   ]
  },
  {
   "cell_type": "code",
   "execution_count": 95,
   "id": "feaa8683",
   "metadata": {},
   "outputs": [
    {
     "data": {
      "text/html": [
       "<div>\n",
       "<style scoped>\n",
       "    .dataframe tbody tr th:only-of-type {\n",
       "        vertical-align: middle;\n",
       "    }\n",
       "\n",
       "    .dataframe tbody tr th {\n",
       "        vertical-align: top;\n",
       "    }\n",
       "\n",
       "    .dataframe thead th {\n",
       "        text-align: right;\n",
       "    }\n",
       "</style>\n",
       "<table border=\"1\" class=\"dataframe\">\n",
       "  <thead>\n",
       "    <tr style=\"text-align: right;\">\n",
       "      <th></th>\n",
       "      <th></th>\n",
       "      <th>Open And Closed</th>\n",
       "    </tr>\n",
       "    <tr>\n",
       "      <th>State</th>\n",
       "      <th>Open And Closed</th>\n",
       "      <th></th>\n",
       "    </tr>\n",
       "  </thead>\n",
       "  <tbody>\n",
       "    <tr>\n",
       "      <th>Alabama</th>\n",
       "      <th>Open</th>\n",
       "      <td>9</td>\n",
       "    </tr>\n",
       "    <tr>\n",
       "      <th>Arizona</th>\n",
       "      <th>Open</th>\n",
       "      <td>6</td>\n",
       "    </tr>\n",
       "    <tr>\n",
       "      <th>California</th>\n",
       "      <th>Open</th>\n",
       "      <td>61</td>\n",
       "    </tr>\n",
       "    <tr>\n",
       "      <th>Colorado</th>\n",
       "      <th>Open</th>\n",
       "      <td>22</td>\n",
       "    </tr>\n",
       "    <tr>\n",
       "      <th>Connecticut</th>\n",
       "      <th>Open</th>\n",
       "      <td>3</td>\n",
       "    </tr>\n",
       "  </tbody>\n",
       "</table>\n",
       "</div>"
      ],
      "text/plain": [
       "                             Open And Closed\n",
       "State       Open And Closed                 \n",
       "Alabama     Open                           9\n",
       "Arizona     Open                           6\n",
       "California  Open                          61\n",
       "Colorado    Open                          22\n",
       "Connecticut Open                           3"
      ]
     },
     "execution_count": 95,
     "metadata": {},
     "output_type": "execute_result"
    }
   ],
   "source": [
    "# Top five records of the Open data frame\n",
    "df_state_data_open.head()"
   ]
  },
  {
   "cell_type": "code",
   "execution_count": 96,
   "id": "fde63335",
   "metadata": {},
   "outputs": [],
   "source": [
    "df_state_data_open.rename(columns={\"Open And Closed\":'Open'},inplace=True)\n",
    "df_state_data_closed.rename(columns={\"Open And Closed\":'Closed'},inplace=True)"
   ]
  },
  {
   "cell_type": "code",
   "execution_count": 97,
   "id": "a6d2d389",
   "metadata": {},
   "outputs": [],
   "source": [
    "# New data frame with open and closed data\n",
    "df_state_data_open_closed = pd.DataFrame\n",
    "df_state_data_open_closed = df_state_data_closed\n",
    "df_state_data_open_closed.reset_index(inplace=True)\n",
    "df_state_data_closed.rename(columns={\"Open And Closed\":'Closed C'},inplace=True)"
   ]
  },
  {
   "cell_type": "code",
   "execution_count": 98,
   "id": "4dd3577f",
   "metadata": {},
   "outputs": [],
   "source": [
    "df_state_data_open.reset_index(inplace=True)\n",
    "df_state_data_open.rename(columns={\"Open And Closed\":'Open C'},inplace=True)"
   ]
  },
  {
   "cell_type": "code",
   "execution_count": 99,
   "id": "ef9f766a",
   "metadata": {},
   "outputs": [],
   "source": [
    "df_state_data_open_closed[\"Open\"] = df_state_data_open[\"Open\"]"
   ]
  },
  {
   "cell_type": "code",
   "execution_count": 100,
   "id": "40b188ce",
   "metadata": {},
   "outputs": [],
   "source": [
    "del df_state_data_open_closed['Closed C']"
   ]
  },
  {
   "cell_type": "code",
   "execution_count": 101,
   "id": "0cd90d38",
   "metadata": {},
   "outputs": [
    {
     "data": {
      "text/html": [
       "<div>\n",
       "<style scoped>\n",
       "    .dataframe tbody tr th:only-of-type {\n",
       "        vertical-align: middle;\n",
       "    }\n",
       "\n",
       "    .dataframe tbody tr th {\n",
       "        vertical-align: top;\n",
       "    }\n",
       "\n",
       "    .dataframe thead th {\n",
       "        text-align: right;\n",
       "    }\n",
       "</style>\n",
       "<table border=\"1\" class=\"dataframe\">\n",
       "  <thead>\n",
       "    <tr style=\"text-align: right;\">\n",
       "      <th></th>\n",
       "      <th>State</th>\n",
       "      <th>Closed</th>\n",
       "      <th>Open</th>\n",
       "    </tr>\n",
       "  </thead>\n",
       "  <tbody>\n",
       "    <tr>\n",
       "      <th>0</th>\n",
       "      <td>Alabama</td>\n",
       "      <td>17</td>\n",
       "      <td>9.0</td>\n",
       "    </tr>\n",
       "    <tr>\n",
       "      <th>1</th>\n",
       "      <td>Arizona</td>\n",
       "      <td>14</td>\n",
       "      <td>6.0</td>\n",
       "    </tr>\n",
       "  </tbody>\n",
       "</table>\n",
       "</div>"
      ],
      "text/plain": [
       "     State  Closed  Open\n",
       "0  Alabama      17   9.0\n",
       "1  Arizona      14   6.0"
      ]
     },
     "execution_count": 101,
     "metadata": {},
     "output_type": "execute_result"
    }
   ],
   "source": [
    "df_state_data_open_closed.head(2)"
   ]
  },
  {
   "cell_type": "markdown",
   "id": "d790e2d3",
   "metadata": {},
   "source": [
    "## 6. Provide state wise status of complaints in a stacked bar chart. Use the categorized variable from Q3. Provide insights on:\n"
   ]
  },
  {
   "cell_type": "code",
   "execution_count": 102,
   "id": "366b5b51",
   "metadata": {},
   "outputs": [
    {
     "data": {
      "text/plain": [
       "<AxesSubplot:xlabel='State'>"
      ]
     },
     "execution_count": 102,
     "metadata": {},
     "output_type": "execute_result"
    },
    {
     "data": {
      "image/png": "[encoded data removed]",
      "text/plain": [
       "<Figure size 1080x504 with 1 Axes>"
      ]
     },
     "metadata": {
      "needs_background": "light"
     },
     "output_type": "display_data"
    }
   ],
   "source": [
    "# State wise status of complaints in a stacked bar chart\n",
    "df_state_data_open_closed.plot(x=\"State\", y=[\"Open\", \"Closed\"], kind=\"bar\", figsize=(15, 7))"
   ]
  },
  {
   "cell_type": "markdown",
   "id": "703d8c93",
   "metadata": {},
   "source": [
    "<p> District of Columbia State has most open complaints.\n",
    "    Most of the complaints are closed.\n",
    "</p>\n"
   ]
  },
  {
   "cell_type": "markdown",
   "id": "308d234c",
   "metadata": {},
   "source": [
    "## 7. Which state has the maximum complaints"
   ]
  },
  {
   "cell_type": "code",
   "execution_count": 103,
   "id": "6b724565",
   "metadata": {},
   "outputs": [
    {
     "data": {
      "text/html": [
       "<div>\n",
       "<style scoped>\n",
       "    .dataframe tbody tr th:only-of-type {\n",
       "        vertical-align: middle;\n",
       "    }\n",
       "\n",
       "    .dataframe tbody tr th {\n",
       "        vertical-align: top;\n",
       "    }\n",
       "\n",
       "    .dataframe thead th {\n",
       "        text-align: right;\n",
       "    }\n",
       "</style>\n",
       "<table border=\"1\" class=\"dataframe\">\n",
       "  <thead>\n",
       "    <tr style=\"text-align: right;\">\n",
       "      <th></th>\n",
       "      <th>State</th>\n",
       "      <th>Max Complaint</th>\n",
       "    </tr>\n",
       "  </thead>\n",
       "  <tbody>\n",
       "    <tr>\n",
       "      <th>0</th>\n",
       "      <td>Georgia</td>\n",
       "      <td>288</td>\n",
       "    </tr>\n",
       "    <tr>\n",
       "      <th>1</th>\n",
       "      <td>Florida</td>\n",
       "      <td>240</td>\n",
       "    </tr>\n",
       "    <tr>\n",
       "      <th>2</th>\n",
       "      <td>California</td>\n",
       "      <td>220</td>\n",
       "    </tr>\n",
       "    <tr>\n",
       "      <th>3</th>\n",
       "      <td>Illinois</td>\n",
       "      <td>164</td>\n",
       "    </tr>\n",
       "    <tr>\n",
       "      <th>4</th>\n",
       "      <td>Tennessee</td>\n",
       "      <td>143</td>\n",
       "    </tr>\n",
       "  </tbody>\n",
       "</table>\n",
       "</div>"
      ],
      "text/plain": [
       "        State  Max Complaint\n",
       "0     Georgia            288\n",
       "1     Florida            240\n",
       "2  California            220\n",
       "3    Illinois            164\n",
       "4   Tennessee            143"
      ]
     },
     "execution_count": 103,
     "metadata": {},
     "output_type": "execute_result"
    }
   ],
   "source": [
    "State_df = pd.DataFrame(data_df[\"State\"].value_counts())\n",
    "State_df.reset_index(inplace=True)\n",
    "State_df.rename(columns={'index':'State' , 'State' : 'Max Complaint'},inplace=True)\n",
    "State_df.head()"
   ]
  },
  {
   "cell_type": "markdown",
   "id": "963428c3",
   "metadata": {},
   "source": [
    "### State with Maximum Complaints"
   ]
  },
  {
   "cell_type": "code",
   "execution_count": 104,
   "id": "cf064fea",
   "metadata": {},
   "outputs": [
    {
     "data": {
      "text/plain": [
       "State            Georgia\n",
       "Max Complaint        288\n",
       "Name: 0, dtype: object"
      ]
     },
     "execution_count": 104,
     "metadata": {},
     "output_type": "execute_result"
    }
   ],
   "source": [
    "State_df.loc[State_df[\"Max Complaint\"].argmax()]"
   ]
  },
  {
   "cell_type": "markdown",
   "id": "752648ab",
   "metadata": {},
   "source": [
    "<p> Georgia State has the maximum complaints.</p>"
   ]
  },
  {
   "cell_type": "markdown",
   "id": "7d40977c",
   "metadata": {},
   "source": [
    "## 8. Which state has the highest percentage of unresolved complaints"
   ]
  },
  {
   "cell_type": "code",
   "execution_count": 105,
   "id": "ac1b849d",
   "metadata": {},
   "outputs": [
    {
     "data": {
      "text/html": [
       "<div>\n",
       "<style scoped>\n",
       "    .dataframe tbody tr th:only-of-type {\n",
       "        vertical-align: middle;\n",
       "    }\n",
       "\n",
       "    .dataframe tbody tr th {\n",
       "        vertical-align: top;\n",
       "    }\n",
       "\n",
       "    .dataframe thead th {\n",
       "        text-align: right;\n",
       "    }\n",
       "</style>\n",
       "<table border=\"1\" class=\"dataframe\">\n",
       "  <thead>\n",
       "    <tr style=\"text-align: right;\">\n",
       "      <th></th>\n",
       "      <th>State</th>\n",
       "      <th>Closed</th>\n",
       "      <th>Open</th>\n",
       "    </tr>\n",
       "  </thead>\n",
       "  <tbody>\n",
       "    <tr>\n",
       "      <th>0</th>\n",
       "      <td>Alabama</td>\n",
       "      <td>17</td>\n",
       "      <td>9.0</td>\n",
       "    </tr>\n",
       "    <tr>\n",
       "      <th>1</th>\n",
       "      <td>Arizona</td>\n",
       "      <td>14</td>\n",
       "      <td>6.0</td>\n",
       "    </tr>\n",
       "    <tr>\n",
       "      <th>2</th>\n",
       "      <td>Arkansas</td>\n",
       "      <td>6</td>\n",
       "      <td>61.0</td>\n",
       "    </tr>\n",
       "    <tr>\n",
       "      <th>3</th>\n",
       "      <td>California</td>\n",
       "      <td>159</td>\n",
       "      <td>22.0</td>\n",
       "    </tr>\n",
       "    <tr>\n",
       "      <th>4</th>\n",
       "      <td>Colorado</td>\n",
       "      <td>58</td>\n",
       "      <td>3.0</td>\n",
       "    </tr>\n",
       "  </tbody>\n",
       "</table>\n",
       "</div>"
      ],
      "text/plain": [
       "        State  Closed  Open\n",
       "0     Alabama      17   9.0\n",
       "1     Arizona      14   6.0\n",
       "2    Arkansas       6  61.0\n",
       "3  California     159  22.0\n",
       "4    Colorado      58   3.0"
      ]
     },
     "execution_count": 105,
     "metadata": {},
     "output_type": "execute_result"
    }
   ],
   "source": [
    "df_state_data_open_closed.head()"
   ]
  },
  {
   "cell_type": "code",
   "execution_count": 106,
   "id": "bddc4ea2",
   "metadata": {},
   "outputs": [],
   "source": [
    "state_highest_per = pd.DataFrame\n",
    "state_highest_per= pd.DataFrame((df_state_data_open_closed['Open'] / df_state_data_open_closed['Open'].sum()) * 100)"
   ]
  },
  {
   "cell_type": "code",
   "execution_count": 107,
   "id": "6e1181b4",
   "metadata": {},
   "outputs": [],
   "source": [
    "state_highest_per[\"State\"] = df_state_data_open_closed[\"State\"]"
   ]
  },
  {
   "cell_type": "markdown",
   "id": "1085bc98",
   "metadata": {},
   "source": [
    "### State with highest percentage of unresolved complaints"
   ]
  },
  {
   "cell_type": "code",
   "execution_count": 108,
   "id": "4dd81230",
   "metadata": {},
   "outputs": [
    {
     "data": {
      "text/html": [
       "<div>\n",
       "<style scoped>\n",
       "    .dataframe tbody tr th:only-of-type {\n",
       "        vertical-align: middle;\n",
       "    }\n",
       "\n",
       "    .dataframe tbody tr th {\n",
       "        vertical-align: top;\n",
       "    }\n",
       "\n",
       "    .dataframe thead th {\n",
       "        text-align: right;\n",
       "    }\n",
       "</style>\n",
       "<table border=\"1\" class=\"dataframe\">\n",
       "  <thead>\n",
       "    <tr style=\"text-align: right;\">\n",
       "      <th></th>\n",
       "      <th>Open</th>\n",
       "      <th>State</th>\n",
       "    </tr>\n",
       "  </thead>\n",
       "  <tbody>\n",
       "    <tr>\n",
       "      <th>8</th>\n",
       "      <td>15.473888</td>\n",
       "      <td>District of Columbia</td>\n",
       "    </tr>\n",
       "    <tr>\n",
       "      <th>2</th>\n",
       "      <td>11.798839</td>\n",
       "      <td>Arkansas</td>\n",
       "    </tr>\n",
       "    <tr>\n",
       "      <th>27</th>\n",
       "      <td>9.090909</td>\n",
       "      <td>New Jersey</td>\n",
       "    </tr>\n",
       "    <tr>\n",
       "      <th>7</th>\n",
       "      <td>7.543520</td>\n",
       "      <td>District Of Columbia</td>\n",
       "    </tr>\n",
       "    <tr>\n",
       "      <th>9</th>\n",
       "      <td>5.609284</td>\n",
       "      <td>Florida</td>\n",
       "    </tr>\n",
       "    <tr>\n",
       "      <th>17</th>\n",
       "      <td>4.448743</td>\n",
       "      <td>Maine</td>\n",
       "    </tr>\n",
       "    <tr>\n",
       "      <th>32</th>\n",
       "      <td>4.448743</td>\n",
       "      <td>Oregon</td>\n",
       "    </tr>\n",
       "    <tr>\n",
       "      <th>3</th>\n",
       "      <td>4.255319</td>\n",
       "      <td>California</td>\n",
       "    </tr>\n",
       "    <tr>\n",
       "      <th>28</th>\n",
       "      <td>4.255319</td>\n",
       "      <td>New Mexico</td>\n",
       "    </tr>\n",
       "    <tr>\n",
       "      <th>25</th>\n",
       "      <td>3.868472</td>\n",
       "      <td>Nevada</td>\n",
       "    </tr>\n",
       "  </tbody>\n",
       "</table>\n",
       "</div>"
      ],
      "text/plain": [
       "         Open                 State\n",
       "8   15.473888  District of Columbia\n",
       "2   11.798839              Arkansas\n",
       "27   9.090909            New Jersey\n",
       "7    7.543520  District Of Columbia\n",
       "9    5.609284               Florida\n",
       "17   4.448743                 Maine\n",
       "32   4.448743                Oregon\n",
       "3    4.255319            California\n",
       "28   4.255319            New Mexico\n",
       "25   3.868472                Nevada"
      ]
     },
     "execution_count": 108,
     "metadata": {},
     "output_type": "execute_result"
    }
   ],
   "source": [
    "state_highest_per.sort_values(by=['Open'] ,ascending=False).head(10)"
   ]
  },
  {
   "cell_type": "markdown",
   "id": "6d53187f",
   "metadata": {},
   "source": [
    "<p>\n",
    "   <b>District of Columbia</b> has the  highest percentage of unresolved complaints\n",
    "</p>"
   ]
  },
  {
   "cell_type": "markdown",
   "id": "e5e1d515",
   "metadata": {},
   "source": [
    "## 9. Provide the percentage of complaints resolved till date, which were received through the Internet and customer care calls."
   ]
  },
  {
   "cell_type": "code",
   "execution_count": 109,
   "id": "cb077242",
   "metadata": {},
   "outputs": [],
   "source": [
    "df_Internet = pd.DataFrame\n",
    "df_Internet = pd.DataFrame(data_df[data_df['Open And Closed'] == 'Closed'].groupby('Received Via')['Open And Closed'].value_counts())"
   ]
  },
  {
   "cell_type": "code",
   "execution_count": 110,
   "id": "4a46c108",
   "metadata": {},
   "outputs": [
    {
     "data": {
      "text/html": [
       "<div>\n",
       "<style scoped>\n",
       "    .dataframe tbody tr th:only-of-type {\n",
       "        vertical-align: middle;\n",
       "    }\n",
       "\n",
       "    .dataframe tbody tr th {\n",
       "        vertical-align: top;\n",
       "    }\n",
       "\n",
       "    .dataframe thead th {\n",
       "        text-align: right;\n",
       "    }\n",
       "</style>\n",
       "<table border=\"1\" class=\"dataframe\">\n",
       "  <thead>\n",
       "    <tr style=\"text-align: right;\">\n",
       "      <th></th>\n",
       "      <th></th>\n",
       "      <th>Open And Closed</th>\n",
       "    </tr>\n",
       "    <tr>\n",
       "      <th>Received Via</th>\n",
       "      <th>Open And Closed</th>\n",
       "      <th></th>\n",
       "    </tr>\n",
       "  </thead>\n",
       "  <tbody>\n",
       "    <tr>\n",
       "      <th>Customer Care Call</th>\n",
       "      <th>Closed</th>\n",
       "      <td>864</td>\n",
       "    </tr>\n",
       "    <tr>\n",
       "      <th>Internet</th>\n",
       "      <th>Closed</th>\n",
       "      <td>843</td>\n",
       "    </tr>\n",
       "  </tbody>\n",
       "</table>\n",
       "</div>"
      ],
      "text/plain": [
       "                                    Open And Closed\n",
       "Received Via       Open And Closed                 \n",
       "Customer Care Call Closed                       864\n",
       "Internet           Closed                       843"
      ]
     },
     "execution_count": 110,
     "metadata": {},
     "output_type": "execute_result"
    }
   ],
   "source": [
    "df_Internet"
   ]
  },
  {
   "cell_type": "code",
   "execution_count": 111,
   "id": "ada8301a",
   "metadata": {},
   "outputs": [],
   "source": [
    "c_closed = df_Internet[\"Open And Closed\"][0]\n",
    "i_closed = df_Internet[\"Open And Closed\"][1]"
   ]
  },
  {
   "cell_type": "code",
   "execution_count": 112,
   "id": "b8ce940d",
   "metadata": {},
   "outputs": [],
   "source": [
    "all_sum = df_Internet[\"Open And Closed\"].sum()"
   ]
  },
  {
   "cell_type": "code",
   "execution_count": 113,
   "id": "46d204c2",
   "metadata": {},
   "outputs": [],
   "source": [
    "Customer_Care_Call = (c_closed / all_sum)* 100"
   ]
  },
  {
   "cell_type": "code",
   "execution_count": 114,
   "id": "8f980a7d",
   "metadata": {},
   "outputs": [
    {
     "data": {
      "text/plain": [
       "50.61511423550088"
      ]
     },
     "execution_count": 114,
     "metadata": {},
     "output_type": "execute_result"
    }
   ],
   "source": [
    "Customer_Care_Call"
   ]
  },
  {
   "cell_type": "code",
   "execution_count": 115,
   "id": "ecc3f925",
   "metadata": {},
   "outputs": [],
   "source": [
    "Internet = (i_closed / all_sum)* 100"
   ]
  },
  {
   "cell_type": "code",
   "execution_count": 116,
   "id": "04eaca53",
   "metadata": {},
   "outputs": [
    {
     "data": {
      "text/plain": [
       "49.38488576449912"
      ]
     },
     "execution_count": 116,
     "metadata": {},
     "output_type": "execute_result"
    }
   ],
   "source": [
    "Internet"
   ]
  },
  {
   "cell_type": "markdown",
   "id": "dc929957",
   "metadata": {},
   "source": [
    "## Percentage of complaints resolved till date of\n",
    "### 1. Customer_Care_Call is 50.61511423550088%\n",
    "### 2. Internet is 49.38488576449912%"
   ]
  },
  {
   "cell_type": "markdown",
   "id": "cd9598f1",
   "metadata": {},
   "source": [
    "<hr><hr><hr><hr><hr><hr><hr><hr>\n",
    "<h3>\n",
    "    <ol>\n",
    "        <li>Month 6 have most complaints.</li>\n",
    "        <li>Day 24 of all months sum of complaint is maximum that is 249. </li>\n",
    "        <li>Comcast complaint types are maximum. </li>\n",
    "        <li>District of Columbia State has most open complaints. Most of the complaints are closed. </li>\n",
    "        <li>Georgia State has the maximum complaints. </li>\n",
    "        <li>District of Columbia has the highest percentage of unresolved complaints. </li>\n",
    "        <li>Percentage of complaints resolved till date of \n",
    "        <ul>\n",
    "            <li>Customer_Care_Call is 50.61511423550088%</li>\n",
    "            <li>Internet is 49.38488576449912%</li>\n",
    "        </ul>\n",
    "        </li>\n",
    "    </ol>\n",
    "</h3>\n",
    "<hr><hr><hr><hr><hr><hr><hr><hr>"
   ]
  }
 ],
 "metadata": {
  "kernelspec": {
   "display_name": "Python 3 (ipykernel)",
   "language": "python",
   "name": "python3"
  },
  "language_info": {
   "codemirror_mode": {
    "name": "ipython",
    "version": 3
   },
   "file_extension": ".py",
   "mimetype": "text/x-python",
   "name": "python",
   "nbconvert_exporter": "python",
   "pygments_lexer": "ipython3",
   "version": "3.9.7"
  }
 },
 "nbformat": 4,
 "nbformat_minor": 5
}
