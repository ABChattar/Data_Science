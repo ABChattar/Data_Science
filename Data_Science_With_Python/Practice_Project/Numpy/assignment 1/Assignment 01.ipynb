{
 "cells": [
  {
   "cell_type": "markdown",
   "metadata": {},
   "source": [
    "<img src=\"http://cfs22.simplicdn.net/ice9/new_logo.svgz \"/>\n",
    "\n",
    "# Assignment 01: Evaluate the GDP Dataset\n",
    "\n",
    "*The comments/sections provided are your cues to perform the assignment. You don't need to limit yourself to the number of rows/cells provided. You can add additional rows in each section to add more lines of code.*\n",
    "\n",
    "*If at any point in time you need help on solving this assignment, view our demo video to understand the different steps of the code.*\n",
    "\n",
    "**Happy coding!**\n",
    "\n",
    "* * *"
   ]
  },
  {
   "cell_type": "markdown",
   "metadata": {},
   "source": [
    "#### 1: View and add the dataset"
   ]
  },
  {
   "cell_type": "code",
   "execution_count": 1,
   "metadata": {},
   "outputs": [],
   "source": [
    "#Import required library\n",
    "import numpy as np"
   ]
  },
  {
   "cell_type": "code",
   "execution_count": 2,
   "metadata": {},
   "outputs": [],
   "source": [
    "#Manually add the dataset\n",
    "List_of_countries=np.array(['Algeria','Angola','Argentina','Australia','Austria','Bahamas',\n",
    "                            'Bangladesh','Belarus','Belgium','Bhutan','Brazil','Bulgaria','Cambodia',\n",
    "                            'Cameroon','Chile','China','Colombia','Cyprus','Denmark','El Salvador','Estonia',\n",
    "                            'Ethiopia','Fiji','Finland','France','Georgia','Ghana','Grenada','Guinea','Haiti',\n",
    "                            'Honduras','Hungary','India','Indonesia','Ireland','Italy','Japan','Kenya', 'South Korea',\n",
    "                            'Liberia','Malaysia','Mexico', 'Morocco','Nepal','New Zealand','Norway','Pakistan', 'Peru',\n",
    "                            'Qatar','Russia','Singapore','South Africa','Spain','Sweden','Switzerland','Thailand',\n",
    "                            'United Arab Emirates','United Kingdom','United States','Uruguay','Venezuela','Vietnam','Zimbabwe'])\n",
    "\n",
    "country_GDP=np.array([2255.225482,629.9553062,11601.63022,25306.82494,27266.40335,19466.99052,588.3691778,2890.345675,\n",
    "                      24733.62696,1445.760002,4803.398244,2618.876037,590.4521124,665.7982328,7122.938458,2639.54156,\n",
    "                      3362.4656,15378.16704,30860.12808,2579.115607,6525.541272,229.6769525,2242.689259,27570.4852,\n",
    "                      23016.84778,1334.646773,402.6953275,6047.200797,394.1156638,385.5793827,1414.072488,5745.981529,\n",
    "                      837.7464011,1206.991065,27715.52837,18937.24998,39578.07441,478.2194906,16684.21278,279.2204061,\n",
    "                      5345.213415,6288.25324,1908.304416,274.8728621,14646.42094,40034.85063,672.1547506,3359.517402,\n",
    "                      36152.66676,3054.727742,33529.83052,3825.093781,15428.32098,33630.24604,39170.41371,2699.123242,\n",
    "                      21058.43643,28272.40661,37691.02733,9581.05659,5671.912202,757.4009286,347.7456605])\n",
    "\n"
   ]
  },
  {
   "cell_type": "markdown",
   "metadata": {
    "collapsed": true
   },
   "source": [
    "#### 2: Find and print the name of the country with the highest GDP"
   ]
  },
  {
   "cell_type": "code",
   "execution_count": 5,
   "metadata": {},
   "outputs": [
    {
     "data": {
      "text/plain": [
       "40034.85063"
      ]
     },
     "execution_count": 5,
     "metadata": {},
     "output_type": "execute_result"
    }
   ],
   "source": [
    "#Use the argmax() method to find the highest GDP\n",
    "country_GDP[country_GDP.argmax()]"
   ]
  },
  {
   "cell_type": "code",
   "execution_count": 6,
   "metadata": {},
   "outputs": [
    {
     "data": {
      "text/plain": [
       "'Norway'"
      ]
     },
     "execution_count": 6,
     "metadata": {},
     "output_type": "execute_result"
    }
   ],
   "source": [
    "#Print the name of the country\n",
    "List_of_countries[country_GDP.argmax()]"
   ]
  },
  {
   "cell_type": "markdown",
   "metadata": {},
   "source": [
    "#### 3: Find and print the name of the country with the lowest GDP"
   ]
  },
  {
   "cell_type": "code",
   "execution_count": 7,
   "metadata": {},
   "outputs": [
    {
     "data": {
      "text/plain": [
       "229.6769525"
      ]
     },
     "execution_count": 7,
     "metadata": {},
     "output_type": "execute_result"
    }
   ],
   "source": [
    "#Use the argmin() method to find the lowest GDP\n",
    "country_GDP[country_GDP.argmin()]"
   ]
  },
  {
   "cell_type": "code",
   "execution_count": 8,
   "metadata": {},
   "outputs": [
    {
     "data": {
      "text/plain": [
       "'Ethiopia'"
      ]
     },
     "execution_count": 8,
     "metadata": {},
     "output_type": "execute_result"
    }
   ],
   "source": [
    "#Print the name of the country\n",
    "List_of_countries[country_GDP.argmin()]"
   ]
  },
  {
   "cell_type": "markdown",
   "metadata": {},
   "source": [
    "#### 4: Print out text ('evaluating country') and input value ('country name') iteratively"
   ]
  },
  {
   "cell_type": "code",
   "execution_count": 36,
   "metadata": {},
   "outputs": [
    {
     "name": "stdout",
     "output_type": "stream",
     "text": [
      "evaluating countryAlgeria\n",
      "evaluating countryAngola\n",
      "evaluating countryArgentina\n",
      "evaluating countryAustralia\n",
      "evaluating countryAustria\n",
      "evaluating countryBahamas\n",
      "evaluating countryBangladesh\n",
      "evaluating countryBelarus\n",
      "evaluating countryBelgium\n",
      "evaluating countryBhutan\n",
      "evaluating countryBrazil\n",
      "evaluating countryBulgaria\n",
      "evaluating countryCambodia\n",
      "evaluating countryCameroon\n",
      "evaluating countryChile\n",
      "evaluating countryChina\n",
      "evaluating countryColombia\n",
      "evaluating countryCyprus\n",
      "evaluating countryDenmark\n",
      "evaluating countryEl Salvador\n",
      "evaluating countryEstonia\n",
      "evaluating countryEthiopia\n",
      "evaluating countryFiji\n",
      "evaluating countryFinland\n",
      "evaluating countryFrance\n",
      "evaluating countryGeorgia\n",
      "evaluating countryGhana\n",
      "evaluating countryGrenada\n",
      "evaluating countryGuinea\n",
      "evaluating countryHaiti\n",
      "evaluating countryHonduras\n",
      "evaluating countryHungary\n",
      "evaluating countryIndia\n",
      "evaluating countryIndonesia\n",
      "evaluating countryIreland\n",
      "evaluating countryItaly\n",
      "evaluating countryJapan\n",
      "evaluating countryKenya\n",
      "evaluating countrySouth Korea\n",
      "evaluating countryLiberia\n",
      "evaluating countryMalaysia\n",
      "evaluating countryMexico\n",
      "evaluating countryMorocco\n",
      "evaluating countryNepal\n",
      "evaluating countryNew Zealand\n",
      "evaluating countryNorway\n",
      "evaluating countryPakistan\n",
      "evaluating countryPeru\n",
      "evaluating countryQatar\n",
      "evaluating countryRussia\n",
      "evaluating countrySingapore\n",
      "evaluating countrySouth Africa\n",
      "evaluating countrySpain\n",
      "evaluating countrySweden\n",
      "evaluating countrySwitzerland\n",
      "evaluating countryThailand\n",
      "evaluating countryUnited Arab Emirates\n",
      "evaluating countryUnited Kingdom\n",
      "evaluating countryUnited States\n",
      "evaluating countryUruguay\n",
      "evaluating countryVenezuela\n",
      "evaluating countryVietnam\n",
      "evaluating countryZimbabwe\n"
     ]
    }
   ],
   "source": [
    "#Use a for loop to print the required output\n",
    "for country in List_of_countries:\n",
    "    print('evaluating country{}'.format(country)) "
   ]
  },
  {
   "cell_type": "markdown",
   "metadata": {},
   "source": [
    "#### 5: Print out the entire list of the countries with their GDPs"
   ]
  },
  {
   "cell_type": "code",
   "execution_count": 40,
   "metadata": {},
   "outputs": [
    {
     "name": "stdout",
     "output_type": "stream",
     "text": [
      "country Algeria per capita gdp is 2255.225482\n",
      "country Angola per capita gdp is 629.9553062\n",
      "country Argentina per capita gdp is 11601.63022\n",
      "country Australia per capita gdp is 25306.82494\n",
      "country Austria per capita gdp is 27266.40335\n",
      "country Bahamas per capita gdp is 19466.99052\n",
      "country Bangladesh per capita gdp is 588.3691778\n",
      "country Belarus per capita gdp is 2890.345675\n",
      "country Belgium per capita gdp is 24733.62696\n",
      "country Bhutan per capita gdp is 1445.760002\n",
      "country Brazil per capita gdp is 4803.398244\n",
      "country Bulgaria per capita gdp is 2618.876037\n",
      "country Cambodia per capita gdp is 590.4521124\n",
      "country Cameroon per capita gdp is 665.7982328\n",
      "country Chile per capita gdp is 7122.938458\n",
      "country China per capita gdp is 2639.54156\n",
      "country Colombia per capita gdp is 3362.4656\n",
      "country Cyprus per capita gdp is 15378.16704\n",
      "country Denmark per capita gdp is 30860.12808\n",
      "country El Salvador per capita gdp is 2579.115607\n",
      "country Estonia per capita gdp is 6525.541272\n",
      "country Ethiopia per capita gdp is 229.6769525\n",
      "country Fiji per capita gdp is 2242.689259\n",
      "country Finland per capita gdp is 27570.4852\n",
      "country France per capita gdp is 23016.84778\n",
      "country Georgia per capita gdp is 1334.646773\n",
      "country Ghana per capita gdp is 402.6953275\n",
      "country Grenada per capita gdp is 6047.200797\n",
      "country Guinea per capita gdp is 394.1156638\n",
      "country Haiti per capita gdp is 385.5793827\n",
      "country Honduras per capita gdp is 1414.072488\n",
      "country Hungary per capita gdp is 5745.981529\n",
      "country India per capita gdp is 837.7464011\n",
      "country Indonesia per capita gdp is 1206.991065\n",
      "country Ireland per capita gdp is 27715.52837\n",
      "country Italy per capita gdp is 18937.24998\n",
      "country Japan per capita gdp is 39578.07441\n",
      "country Kenya per capita gdp is 478.2194906\n",
      "country South Korea per capita gdp is 16684.21278\n",
      "country Liberia per capita gdp is 279.2204061\n",
      "country Malaysia per capita gdp is 5345.213415\n",
      "country Mexico per capita gdp is 6288.25324\n",
      "country Morocco per capita gdp is 1908.304416\n",
      "country Nepal per capita gdp is 274.8728621\n",
      "country New Zealand per capita gdp is 14646.42094\n",
      "country Norway per capita gdp is 40034.85063\n",
      "country Pakistan per capita gdp is 672.1547506\n",
      "country Peru per capita gdp is 3359.517402\n",
      "country Qatar per capita gdp is 36152.66676\n",
      "country Russia per capita gdp is 3054.727742\n",
      "country Singapore per capita gdp is 33529.83052\n",
      "country South Africa per capita gdp is 3825.093781\n",
      "country Spain per capita gdp is 15428.32098\n",
      "country Sweden per capita gdp is 33630.24604\n",
      "country Switzerland per capita gdp is 39170.41371\n",
      "country Thailand per capita gdp is 2699.123242\n",
      "country United Arab Emirates per capita gdp is 21058.43643\n",
      "country United Kingdom per capita gdp is 28272.40661\n",
      "country United States per capita gdp is 37691.02733\n",
      "country Uruguay per capita gdp is 9581.05659\n",
      "country Venezuela per capita gdp is 5671.912202\n",
      "country Vietnam per capita gdp is 757.4009286\n",
      "country Zimbabwe per capita gdp is 347.7456605\n"
     ]
    }
   ],
   "source": [
    "#Use a for loop to print the required list\n",
    "for i in range(len(List_of_countries)):\n",
    "    country=(List_of_countries)[i]\n",
    "    per_capita_gdp=(country_GDP)[i]\n",
    "    print('country {} per capita gdp is {}'.format(country,per_capita_gdp))"
   ]
  },
  {
   "cell_type": "markdown",
   "metadata": {},
   "source": [
    "#### 6: Print the following:\n",
    "1. Highest GPD value\n",
    "2. Lowest GDP value\n",
    "3. Mean GDP value\n",
    "4. Standardized GDP value\n",
    "5. Sum of all the GDPs"
   ]
  },
  {
   "cell_type": "code",
   "execution_count": 48,
   "metadata": {},
   "outputs": [
    {
     "name": "stdout",
     "output_type": "stream",
     "text": [
      "40034.85063\n",
      "229.6769525\n",
      "11289.409271639683\n",
      "12743.828910617945\n",
      "711232.7841133\n"
     ]
    }
   ],
   "source": [
    "print(country_GDP[country_GDP.argmax()])\n",
    "print(country_GDP[country_GDP.argmin()])\n",
    "print(country_GDP.mean())\n",
    "print(country_GDP.std())\n",
    "print(country_GDP.sum())\n"
   ]
  },
  {
   "cell_type": "code",
   "execution_count": null,
   "metadata": {},
   "outputs": [],
   "source": []
  },
  {
   "cell_type": "code",
   "execution_count": null,
   "metadata": {},
   "outputs": [],
   "source": []
  },
  {
   "cell_type": "code",
   "execution_count": null,
   "metadata": {},
   "outputs": [],
   "source": []
  }
 ],
 "metadata": {
  "kernelspec": {
   "display_name": "Python 3 (ipykernel)",
   "language": "python",
   "name": "python3"
  },
  "language_info": {
   "codemirror_mode": {
    "name": "ipython",
    "version": 3
   },
   "file_extension": ".py",
   "mimetype": "text/x-python",
   "name": "python",
   "nbconvert_exporter": "python",
   "pygments_lexer": "ipython3",
   "version": "3.9.7"
  }
 },
 "nbformat": 4,
 "nbformat_minor": 1
}
